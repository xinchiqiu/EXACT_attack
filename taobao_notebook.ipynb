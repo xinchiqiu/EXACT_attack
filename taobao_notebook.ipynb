{
  "cells": [
    {
      "cell_type": "markdown",
      "metadata": {
        "customInput": null,
        "originalKey": "8b412db4-7357-4abf-8d1d-d07fc3fff76c",
        "showInput": true
      },
      "source": [
        "\n",
        " # Dataset:\n",
        "\n",
        "## user related features\n",
        "cms_segid: 0-96\n",
        "\n",
        "cms_group_id: 0-12\n",
        "\n",
        "age: 0-6\n",
        "\n",
        "pvalue: 1,2,3\n",
        "\n",
        "shopping_level:1,2,3\n",
        "\n",
        "occupation: 1,0\n",
        "\n",
        "## from ad (onsite features)\n",
        "cate_id: 6725\n",
        "\n",
        "adgroup_id: 827009\n",
        "\n",
        "brand:98772\n",
        "\n",
        "customer:252841\n",
        "\n",
        "price: float"
      ]
    },
    {
      "cell_type": "code",
      "execution_count": 1,
      "metadata": {
        "collapsed": false,
        "customInput": null,
        "executionStartTime": 1677231309946,
        "executionStopTime": 1677231310021,
        "originalKey": "cdefe75f-519a-48ce-b01d-baf53f9db294",
        "requestMsgId": "1a9e5f3a-301b-45e7-9f5d-b7d14502c39a",
        "showInput": true
      },
      "outputs": [],
      "source": [
        "from sklearn.metrics import log_loss, roc_auc_score\n",
        "from sklearn.model_selection import StratifiedKFold\n",
        "from sklearn.preprocessing import LabelEncoder\n",
        "import pandas as pd\n",
        "import numpy as np\n",
        "#import pandas_profiling \n",
        "from sklearn.metrics import log_loss, roc_auc_score\n",
        "from sklearn.model_selection import train_test_split\n",
        "from sklearn.preprocessing import MinMaxScaler\n",
        "import torch\n",
        "from torch.utils.data import Dataset, DataLoader\n",
        "import torch.nn as nn\n",
        "import torch.nn.functional as F\n",
        "from torchvision import models\n",
        "import itertools\n",
        "from sklearn import metrics\n",
        "from sklearn.cluster import KMeans\n",
        "from sklearn.neighbors import KNeighborsClassifier\n",
        "\n",
        "#!pip install matplotlib\n",
        "import matplotlib\n"
      ]
    },
    {
      "cell_type": "code",
      "execution_count": 2,
      "metadata": {
        "collapsed": false,
        "customInput": null,
        "executionStartTime": 1677231310283,
        "executionStopTime": 1677231310367,
        "originalKey": "29405211-ca46-4461-b73c-88874cc4e846",
        "requestMsgId": "37e495cf-3d5c-400d-b0bd-05f8ab7faf9b",
        "showInput": true
      },
      "outputs": [
        {
          "name": "stdout",
          "output_type": "stream",
          "text": [
            "USING CUDA\n"
          ]
        }
      ],
      "source": [
        "if torch.cuda.is_available():\n",
        "    device = \"cuda\"\n",
        "    #torch.set_default_tensor_type(\"torch.cuda.FloatTensor\")\n",
        "    print(\"USING CUDA\")\n",
        "else:\n",
        "    device = \"cpu\"\n",
        "    print(\"USING CPU\")\n",
        "\n",
        "# sending model to cuda has error (not sure why)\n",
        "#device = 'cpu'"
      ]
    },
    {
      "cell_type": "code",
      "execution_count": 6,
      "metadata": {
        "collapsed": false,
        "customInput": null,
        "executionStartTime": 1677231310766,
        "executionStopTime": 1677231310840,
        "originalKey": "7179b938-ab4c-4a23-9b7d-9045627c40bc",
        "requestMsgId": "d3925bfa-934e-41c6-8e34-cbf90c410366",
        "showInput": true
      },
      "outputs": [],
      "source": [
        "def load_taobao_df():\n",
        "    ad = \"ad_feature.csv\"\n",
        "    ad_feature_df =  pd.read_csv(ad)\n",
        "\n",
        "    raw_sample = \"raw_sample.csv\"\n",
        "    raw_sample_df = pd.read_csv(raw_sample)\n",
        "\n",
        "    user = \"user_profile.csv\"\n",
        "    user_profile_df = pd.read_csv(user)\n",
        "\n",
        "    # memory optimize for ad feature dataframe\n",
        "    optimized_gl = raw_sample_df.copy()\n",
        "\n",
        "    gl_int = raw_sample_df.select_dtypes(include=['int'])\n",
        "    converted_int = gl_int.apply(pd.to_numeric,downcast='unsigned')\n",
        "    optimized_gl[converted_int.columns] = converted_int\n",
        "\n",
        "\n",
        "    gl_obj = raw_sample_df.select_dtypes(include=['object']).copy()\n",
        "    converted_obj = pd.DataFrame()\n",
        "    for col in gl_obj.columns:\n",
        "        num_unique_values = len(gl_obj[col].unique())\n",
        "        num_total_values = len(gl_obj[col])\n",
        "        if num_unique_values / num_total_values < 0.5:\n",
        "            converted_obj.loc[:,col] = gl_obj[col].astype('category')\n",
        "        else:\n",
        "            converted_obj.loc[:,col] = gl_obj[col]\n",
        "    optimized_gl[converted_obj.columns] = converted_obj\n",
        "    raw_sample_df = optimized_gl.copy()\n",
        "    raw_sample_df_new = raw_sample_df.rename(columns = {\"user\": \"userid\"})\n",
        "    optimized_g2 = ad_feature_df.copy()\n",
        "    g2_int = ad_feature_df.select_dtypes(include=['int'])\n",
        "    converted_int = g2_int.apply(pd.to_numeric,downcast='unsigned')\n",
        "    optimized_g2[converted_int.columns] = converted_int\n",
        "\n",
        "    g2_float = ad_feature_df.select_dtypes(include=['float'])\n",
        "    converted_float = g2_float.apply(pd.to_numeric,downcast='float')\n",
        "    optimized_g2[converted_float.columns] = converted_float\n",
        "\n",
        "    optimized_g3 = user_profile_df.copy()\n",
        "\n",
        "    g3_int = user_profile_df.select_dtypes(include=['int'])\n",
        "    converted_int = g3_int.apply(pd.to_numeric,downcast='unsigned')\n",
        "    optimized_g3[converted_int.columns] = converted_int\n",
        "\n",
        "    g3_float = user_profile_df.select_dtypes(include=['float'])\n",
        "    converted_float = g3_float.apply(pd.to_numeric,downcast='float')\n",
        "    optimized_g3[converted_float.columns] = converted_float\n",
        "\n",
        "    # combine 3 tables\n",
        "    df1 = raw_sample_df_new.merge(optimized_g3, on=\"userid\")\n",
        "    final_df = df1.merge(optimized_g2, on=\"adgroup_id\")\n",
        "\n",
        "    final_df['pvalue_level'] = final_df['pvalue_level'].fillna(2, )\n",
        "    final_df['final_gender_code'] = final_df['final_gender_code'].fillna(1, )\n",
        "    final_df['age_level'] = final_df['age_level'].fillna(3, )\n",
        "    final_df['shopping_level'] = final_df['shopping_level'].fillna(2, )\n",
        "    final_df['occupation'] = final_df['occupation'].fillna(0, )\n",
        "    final_df['brand'] = final_df['brand'].fillna(0, )\n",
        "    final_df['customer'] = final_df['customer'].fillna(0, )\n",
        "    final_df['cms_group_id'] = final_df['cms_group_id'].fillna(13, )\n",
        "\n",
        "    final_df['pvalue_level'] -= 1\n",
        "    final_df['shopping_level'] -= 1\n",
        "    final_df = final_df.astype({\"cms_segid\": int, \n",
        "                                \"cms_group_id\": int, \n",
        "                                'clk': float, \n",
        "                                'adgroup_id': int, \n",
        "                                'final_gender_code':int,\n",
        "                                'age_level':int,\n",
        "                                'pvalue_level':int,\n",
        "                                'shopping_level':int,\n",
        "                                'occupation':int,\n",
        "                                'cate_id':int,\n",
        "                                'customer':int,\n",
        "                                'brand':int}\n",
        "                                )\n",
        "\n",
        "    return final_df"
      ]
    },
    {
      "cell_type": "code",
      "execution_count": 7,
      "metadata": {
        "collapsed": false,
        "customInput": null,
        "executionStartTime": 1677231311296,
        "executionStopTime": 1677231410688,
        "originalKey": "2ccb911a-1fe0-420b-98f4-d55ac6449a02",
        "requestMsgId": "df87b1bf-aa44-4fec-bf7d-c72b3301f97d",
        "showInput": true
      },
      "outputs": [],
      "source": [
        "tb_df = load_taobao_df()"
      ]
    },
    {
      "attachments": {},
      "cell_type": "markdown",
      "metadata": {},
      "source": [
        "## Analysis of Datasets"
      ]
    },
    {
      "cell_type": "code",
      "execution_count": 5,
      "metadata": {
        "collapsed": false,
        "customInput": null,
        "executionStartTime": 1677231413177,
        "executionStopTime": 1677231413196,
        "originalKey": "2d6b55fb-de9d-4d03-81c3-27bdf55f3645",
        "requestMsgId": "9089579d-4d51-4d38-bb82-9b8a04bee4fc",
        "showInput": true
      },
      "outputs": [
        {
          "data": {
            "text/plain": [
              "0.051320095719300095"
            ]
          },
          "execution_count": 5,
          "metadata": {},
          "output_type": "execute_result"
        }
      ],
      "source": [
        "# checking the dataset\n",
        "# how many label 1 \n",
        "# so that the dataset is very unbalanced\n",
        "sum(tb_df['clk'])/len(tb_df)"
      ]
    },
    {
      "cell_type": "code",
      "execution_count": 6,
      "metadata": {},
      "outputs": [
        {
          "data": {
            "text/html": [
              "<div>\n",
              "<style scoped>\n",
              "    .dataframe tbody tr th:only-of-type {\n",
              "        vertical-align: middle;\n",
              "    }\n",
              "\n",
              "    .dataframe tbody tr th {\n",
              "        vertical-align: top;\n",
              "    }\n",
              "\n",
              "    .dataframe thead th {\n",
              "        text-align: right;\n",
              "    }\n",
              "</style>\n",
              "<table border=\"1\" class=\"dataframe\">\n",
              "  <thead>\n",
              "    <tr style=\"text-align: right;\">\n",
              "      <th></th>\n",
              "      <th>userid</th>\n",
              "      <th>time_stamp</th>\n",
              "      <th>adgroup_id</th>\n",
              "      <th>pid</th>\n",
              "      <th>nonclk</th>\n",
              "      <th>clk</th>\n",
              "      <th>cms_segid</th>\n",
              "      <th>cms_group_id</th>\n",
              "      <th>final_gender_code</th>\n",
              "      <th>age_level</th>\n",
              "      <th>pvalue_level</th>\n",
              "      <th>shopping_level</th>\n",
              "      <th>occupation</th>\n",
              "      <th>new_user_class_level</th>\n",
              "      <th>cate_id</th>\n",
              "      <th>campaign_id</th>\n",
              "      <th>customer</th>\n",
              "      <th>brand</th>\n",
              "      <th>price</th>\n",
              "    </tr>\n",
              "  </thead>\n",
              "  <tbody>\n",
              "    <tr>\n",
              "      <th>0</th>\n",
              "      <td>581738</td>\n",
              "      <td>1494137644</td>\n",
              "      <td>1</td>\n",
              "      <td>430548_1007</td>\n",
              "      <td>1</td>\n",
              "      <td>0.0</td>\n",
              "      <td>0</td>\n",
              "      <td>8</td>\n",
              "      <td>1</td>\n",
              "      <td>2</td>\n",
              "      <td>1</td>\n",
              "      <td>2</td>\n",
              "      <td>0</td>\n",
              "      <td>NaN</td>\n",
              "      <td>9025</td>\n",
              "      <td>108570</td>\n",
              "      <td>1337</td>\n",
              "      <td>20169</td>\n",
              "      <td>17.0</td>\n",
              "    </tr>\n",
              "    <tr>\n",
              "      <th>1</th>\n",
              "      <td>581738</td>\n",
              "      <td>1494130330</td>\n",
              "      <td>6029</td>\n",
              "      <td>430548_1007</td>\n",
              "      <td>1</td>\n",
              "      <td>0.0</td>\n",
              "      <td>0</td>\n",
              "      <td>8</td>\n",
              "      <td>1</td>\n",
              "      <td>2</td>\n",
              "      <td>1</td>\n",
              "      <td>2</td>\n",
              "      <td>0</td>\n",
              "      <td>NaN</td>\n",
              "      <td>7008</td>\n",
              "      <td>415604</td>\n",
              "      <td>70200</td>\n",
              "      <td>64668</td>\n",
              "      <td>11800.0</td>\n",
              "    </tr>\n",
              "    <tr>\n",
              "      <th>2</th>\n",
              "      <td>439866</td>\n",
              "      <td>1494288737</td>\n",
              "      <td>6029</td>\n",
              "      <td>430548_1007</td>\n",
              "      <td>1</td>\n",
              "      <td>0.0</td>\n",
              "      <td>91</td>\n",
              "      <td>11</td>\n",
              "      <td>1</td>\n",
              "      <td>5</td>\n",
              "      <td>1</td>\n",
              "      <td>2</td>\n",
              "      <td>0</td>\n",
              "      <td>2.0</td>\n",
              "      <td>7008</td>\n",
              "      <td>415604</td>\n",
              "      <td>70200</td>\n",
              "      <td>64668</td>\n",
              "      <td>11800.0</td>\n",
              "    </tr>\n",
              "  </tbody>\n",
              "</table>\n",
              "</div>"
            ],
            "text/plain": [
              "   userid  time_stamp  adgroup_id          pid  nonclk  clk  cms_segid  \\\n",
              "0  581738  1494137644           1  430548_1007       1  0.0          0   \n",
              "1  581738  1494130330        6029  430548_1007       1  0.0          0   \n",
              "2  439866  1494288737        6029  430548_1007       1  0.0         91   \n",
              "\n",
              "   cms_group_id  final_gender_code  age_level  pvalue_level  shopping_level  \\\n",
              "0             8                  1          2             1               2   \n",
              "1             8                  1          2             1               2   \n",
              "2            11                  1          5             1               2   \n",
              "\n",
              "   occupation  new_user_class_level   cate_id  campaign_id  customer  brand  \\\n",
              "0           0                    NaN     9025       108570      1337  20169   \n",
              "1           0                    NaN     7008       415604     70200  64668   \n",
              "2           0                    2.0     7008       415604     70200  64668   \n",
              "\n",
              "     price  \n",
              "0     17.0  \n",
              "1  11800.0  \n",
              "2  11800.0  "
            ]
          },
          "execution_count": 6,
          "metadata": {},
          "output_type": "execute_result"
        }
      ],
      "source": [
        "tb_df.head(3)"
      ]
    },
    {
      "cell_type": "code",
      "execution_count": 7,
      "metadata": {},
      "outputs": [
        {
          "name": "stdout",
          "output_type": "stream",
          "text": [
            "[2 5 4 3 1 6 0]\n",
            "max ratio: 0.30258829254435826\n"
          ]
        },
        {
          "data": {
            "image/png": "[encoded data removed]",
            "text/plain": [
              "<Figure size 640x480 with 1 Axes>"
            ]
          },
          "metadata": {},
          "output_type": "display_data"
        }
      ],
      "source": [
        "tb_df.hist(column='age_level')\n",
        "print(tb_df['age_level'].unique())\n",
        "ratio = len(tb_df[tb_df['age_level'] == 3])/len(tb_df)\n",
        "print('max ratio:', ratio)"
      ]
    },
    {
      "cell_type": "code",
      "execution_count": 8,
      "metadata": {},
      "outputs": [
        {
          "name": "stdout",
          "output_type": "stream",
          "text": [
            "[ 8 11 10  9  7 12  5  4  2  6  3  1  0]\n",
            "max ratio: 0.22764976516649296\n"
          ]
        },
        {
          "data": {
            "image/png": "[encoded data removed]",
            "text/plain": [
              "<Figure size 640x480 with 1 Axes>"
            ]
          },
          "metadata": {},
          "output_type": "display_data"
        }
      ],
      "source": [
        "tb_df.hist(column='cms_group_id')\n",
        "print(tb_df['cms_group_id'].unique())\n",
        "ratio = len(tb_df[tb_df['cms_group_id'] == 3])/len(tb_df)\n",
        "print('max ratio:', ratio)"
      ]
    },
    {
      "cell_type": "code",
      "execution_count": 9,
      "metadata": {},
      "outputs": [
        {
          "name": "stdout",
          "output_type": "stream",
          "text": [
            "[1 0 2]\n",
            "max ratio: 0.7996814550548185\n"
          ]
        },
        {
          "data": {
            "image/png": "[encoded data removed]",
            "text/plain": [
              "<Figure size 640x480 with 1 Axes>"
            ]
          },
          "metadata": {},
          "output_type": "display_data"
        }
      ],
      "source": [
        "tb_df.hist(column='pvalue_level')\n",
        "print(tb_df['pvalue_level'].unique())\n",
        "ratio = len(tb_df[tb_df['pvalue_level'] == 1])/len(tb_df)\n",
        "print('max ratio:', ratio)"
      ]
    },
    {
      "cell_type": "code",
      "execution_count": 10,
      "metadata": {},
      "outputs": [
        {
          "name": "stdout",
          "output_type": "stream",
          "text": [
            "[2 1 0]\n",
            "max ratio: 0.8516571788376366\n"
          ]
        },
        {
          "data": {
            "image/png": "[encoded data removed]",
            "text/plain": [
              "<Figure size 640x480 with 1 Axes>"
            ]
          },
          "metadata": {},
          "output_type": "display_data"
        }
      ],
      "source": [
        "tb_df.hist(column='shopping_level')\n",
        "print(tb_df['shopping_level'].unique())\n",
        "ratio = len(tb_df[tb_df['shopping_level'] == 2])/len(tb_df)\n",
        "print('max ratio:', ratio)"
      ]
    },
    {
      "cell_type": "code",
      "execution_count": 11,
      "metadata": {},
      "outputs": [
        {
          "name": "stdout",
          "output_type": "stream",
          "text": [
            "[0 1]\n",
            "max ratio: 0.9455062409519033\n"
          ]
        },
        {
          "data": {
            "image/png": "[encoded data removed]",
            "text/plain": [
              "<Figure size 640x480 with 1 Axes>"
            ]
          },
          "metadata": {},
          "output_type": "display_data"
        }
      ],
      "source": [
        "tb_df.hist(column='occupation')\n",
        "print(tb_df['occupation'].unique())\n",
        "ratio = len(tb_df[tb_df['occupation'] == 0])/len(tb_df)\n",
        "print('max ratio:', ratio)"
      ]
    },
    {
      "attachments": {},
      "cell_type": "markdown",
      "metadata": {},
      "source": [
        "## preparing dataset"
      ]
    },
    {
      "cell_type": "code",
      "execution_count": 8,
      "metadata": {
        "collapsed": false,
        "customInput": null,
        "executionStartTime": 1677231413605,
        "executionStopTime": 1677231419249,
        "originalKey": "cdfb4483-4970-45c5-a7aa-838aeb6e40ae",
        "requestMsgId": "9298f875-bef4-4659-ad24-4dc09b37f923",
        "showInput": true
      },
      "outputs": [
        {
          "name": "stdout",
          "output_type": "stream",
          "text": [
            "1284513\n",
            "23744922\n",
            "2569026\n"
          ]
        }
      ],
      "source": [
        "# can we get a balanced dataset, by taking the same number of positive label and negative labels\n",
        "# so that training would be ok for now\n",
        "df_1 = tb_df[tb_df['clk'] == 1]\n",
        "df_0 = tb_df[tb_df['clk'] == 0]\n",
        "print(len(df_1))\n",
        "print(len(df_0))\n",
        "frames = [df_1, df_0[:1284513]]\n",
        "df = pd.concat(frames)\n",
        "print(len(df))\n",
        "df = df.sample(frac=1)\n",
        "tb_train = df[:50000]\n",
        "tb_test = df[-10000:]\n",
        "tb_test = tb_test.reset_index()\n",
        "tb_train = tb_train.reset_index()"
      ]
    },
    {
      "cell_type": "code",
      "execution_count": 13,
      "metadata": {
        "collapsed": false,
        "customInput": null,
        "executionStartTime": 1677231419552,
        "executionStopTime": 1677231419557,
        "originalKey": "c48bf209-cfe4-4d53-bfcb-d4917b907056",
        "requestMsgId": "5e78326a-02fc-44c7-8b8d-9243edb99965",
        "showInput": true
      },
      "outputs": [],
      "source": [
        "# train test split\n",
        "#tb_train = tb_df[:2252650] # 90% for training\n",
        "#tb_test = tb_df[2252650:]\n",
        "#tb_test = tb_test.reset_index()\n",
        "\n",
        "# cpu slow, so just test a few \n",
        "#tb_train = tb_df[:50000] # 90% for training\n",
        "#tb_test = tb_df[-10000:]\n",
        "#tb_test = tb_test.reset_index()"
      ]
    },
    {
      "cell_type": "markdown",
      "metadata": {
        "customInput": null,
        "originalKey": "47d39846-16f2-4d3f-a8c0-7b606cbbfede",
        "showInput": false
      },
      "source": [
        "## Model: server_arch and client_arch"
      ]
    },
    {
      "cell_type": "code",
      "execution_count": 6,
      "metadata": {
        "collapsed": false,
        "customInput": null,
        "executionStartTime": 1677231419853,
        "executionStopTime": 1677231419934,
        "originalKey": "53f0bc51-a5bf-4b9e-b7ca-d76abce97945",
        "requestMsgId": "3da6328b-c423-46ef-a200-ff926f73faf4",
        "showInput": true
      },
      "outputs": [],
      "source": [
        "class Dataset_split(Dataset):\n",
        "    def __init__(self, X, emb_cols, server_continuous_cols, non_emb_cols):\n",
        "        X = X.copy()\n",
        "        self.server_categorical = X.loc[:,emb_cols].copy().values.astype(np.int64) #categorical columns\n",
        "        self.client = X.reindex(columns = non_emb_cols).values.astype(np.float32)\n",
        "        self.server_continuous = X.reindex(columns = server_continuous_cols).values.astype(np.float32)\n",
        "        self.y = X['clk']\n",
        "        \n",
        "    def __len__(self):\n",
        "        return len(self.y)\n",
        "    \n",
        "    def __getitem__(self, idx):\n",
        "        #return self.server_categorical[idx], self.server_continuous[idx], self.client[idx], self.y[idx]\n",
        "\n",
        "        return {'server_categorical': self.server_categorical[idx],\n",
        "                'server_continuous': self.server_continuous[idx],\n",
        "                'client': self.client[idx],\n",
        "                'label': self.y[idx]}"
      ]
    },
    {
      "cell_type": "markdown",
      "metadata": {
        "customInput": null,
        "originalKey": "17cdb6e3-8c12-447b-95e0-14fbe4283011",
        "showInput": true
      },
      "source": [
        "Create 2 parts of model: server_arch and client_arch like in FSL project. \n",
        "\n",
        "The server_arch takes in 2 types of input: categorical and continuous. The categorical input will go through the embedding layer first and then concatenate with the continuous input. There is only 1 continuous features 'price' in this dataset.\n",
        "\n",
        "The client_arch takes in only one input. In our case, all 5 features are categorical, which are user related and we are going to reconstructed these 5 features. "
      ]
    },
    {
      "cell_type": "code",
      "execution_count": 7,
      "metadata": {
        "collapsed": false,
        "customInput": null,
        "executionStartTime": 1677231420220,
        "executionStopTime": 1677231420295,
        "originalKey": "15302902-2e64-4ee4-933b-224f5e9ed831",
        "requestMsgId": "1c988536-92df-4f26-9745-6ff52dece7dc",
        "showInput": true
      },
      "outputs": [],
      "source": [
        "# server side arch\n",
        "class server_arch(nn.Module):\n",
        "    def __init__(self, embedding_sizes, n_cont):\n",
        "        super().__init__()\n",
        "        self.embeddings = nn.ModuleList([nn.Embedding(categories, size) for categories,size in embedding_sizes])\n",
        "        n_emb = sum(e.embedding_dim for e in self.embeddings) #length of all embeddings combined\n",
        "        self.n_emb, self.n_cont = 250, n_cont\n",
        "        self.emb_drop = nn.Dropout(0.6)\n",
        "        self.lin1 = nn.Linear(self.n_emb + self.n_cont, 64)\n",
        "        \n",
        "\n",
        "    def forward(self, x_server_categorical,x_server_continuous):\n",
        "        x = [e(x_server_categorical[:,i]) for i,e in enumerate(self.embeddings)]\n",
        "        x = torch.cat(x, 1)\n",
        "        x = torch.cat([x,x_server_continuous], 1)\n",
        "        x = self.emb_drop(x)\n",
        "        x = F.relu(self.lin1(x))\n",
        "        return x\n",
        "\n",
        "class client_arch(nn.Module):\n",
        "    def __init__(self, n_server_output, n_client_input):\n",
        "        super().__init__()\n",
        "        self.n_server_output = n_server_output\n",
        "        self.n_client_input = n_client_input\n",
        "        self.lin1 = nn.Linear(self.n_server_output + self.n_client_input, 32)\n",
        "        self.lin2 = nn.Linear(32, 32)\n",
        "        self.lin3 = nn.Linear(32, 1)\n",
        "        #self.bn1 = nn.BatchNorm1d(self.n_cont)\n",
        "        #self.bn2 = nn.BatchNorm1d(64)\n",
        "        #self.bn3 = nn.BatchNorm1d(32)\n",
        "        #self.emb_drop = nn.Dropout(0.6)\n",
        "        #self.drops = nn.Dropout(0.3)\n",
        "        \n",
        "\n",
        "    def forward(self, server_output, x_client):\n",
        "        cut_layer = torch.cat([server_output, x_client], 1)\n",
        "        x = F.relu(self.lin1(cut_layer))\n",
        "        #x = self.drops(x)\n",
        "        #x = self.bn2(x)\n",
        "        x = F.relu(self.lin2(x))\n",
        "        #x = self.drops(x)\n",
        "        #x = self.bn3(x)\n",
        "        x = torch.sigmoid(self.lin3(x))\n",
        "        return x\n",
        "\n",
        "    def set_model_gradients(self, gradient):\n",
        "        params = list(self.parameters())\n",
        "        for p, grad in zip(params, gradient):\n",
        "            p.grad = grad.clone()\n",
        "\n",
        "    def backward(self, cut_node, output, target, loss_fn, update_model_grad=True):\n",
        "        loss = loss_fn(output, target)\n",
        "        params = list(self.parameters())\n",
        "                \n",
        "        # gradients dE/dw_n\n",
        "        de_dw = torch.autograd.grad(\n",
        "            [loss],\n",
        "            params,\n",
        "            retain_graph = True,\n",
        "        )\n",
        "\n",
        "        if update_model_grad:\n",
        "            self.set_model_gradients(de_dw)\n",
        "\n",
        "\n",
        "        de_dx = torch.autograd.grad(\n",
        "            [loss],\n",
        "            cut_node,\n",
        "            retain_graph = True,\n",
        "        )\n",
        "\n",
        "        return de_dw, de_dx\n"
      ]
    },
    {
      "cell_type": "markdown",
      "metadata": {
        "customInput": null,
        "originalKey": "109185d3-88a8-4b5c-adf4-8189d65c2e9f",
        "showInput": false
      },
      "source": [
        "## fit() and validate() function"
      ]
    },
    {
      "cell_type": "code",
      "execution_count": 8,
      "metadata": {
        "collapsed": false,
        "customInput": null,
        "executionStartTime": 1677231420650,
        "executionStopTime": 1677231420733,
        "originalKey": "aec68e28-e322-43d4-80ba-78e7389d5c0b",
        "requestMsgId": "fc668bb6-0022-4ea0-bda0-dfba4005969a",
        "showInput": true
      },
      "outputs": [],
      "source": [
        "def validate_split(server_model, client_model, loss_fn, test_dataloader, device):\n",
        "    server_model.eval()\n",
        "    client_model.eval()\n",
        "    total = 0\n",
        "    sum_loss = 0\n",
        "    correct = 0\n",
        "    y_proba_list = []\n",
        "    y_true_list = []\n",
        "    y_pred_list = []\n",
        "    for batch in test_dataloader:\n",
        "        for key, value in batch.items():\n",
        "                batch[key] = batch[key].to(device)\n",
        "\n",
        "        y = batch['label'].unsqueeze(1).to(torch.float32)\n",
        "\n",
        "        current_batch_size = y.shape[0]\n",
        "\n",
        "        server_output = server_model(batch['server_categorical'], batch['server_continuous'])\n",
        "        out = client_model(server_output, batch['client'])\n",
        "        \n",
        "        y_proba_list.extend(out.detach().cpu().numpy())\n",
        "        y_true_list.extend(y.detach().cpu().numpy())\n",
        "\n",
        "        loss = loss_fn(out, y)\n",
        "        sum_loss += current_batch_size*(loss.item())\n",
        "        total += current_batch_size\n",
        "        pred = torch.round(out).squeeze()\n",
        "\n",
        "        y_pred_list.extend(pred.detach().cpu().numpy())\n",
        "        y = y.squeeze()\n",
        "        correct += (pred == y).sum()\n",
        "\n",
        "        \n",
        "\n",
        "    print(\"test loss %.3f and accuracy %.3f\" % (sum_loss/total, correct/total))\n",
        "    auc = metrics.average_precision_score(y_true_list,y_proba_list)\n",
        "    print(\"AUC=\",auc)\n",
        "    conf_matrix = metrics.confusion_matrix(y_true_list,y_pred_list)\n",
        "    print('confusion matrix=',conf_matrix)\n",
        "    return sum_loss/total, correct/total"
      ]
    },
    {
      "cell_type": "code",
      "execution_count": 9,
      "metadata": {
        "collapsed": false,
        "customInput": null,
        "executionStartTime": 1677231421057,
        "executionStopTime": 1677231421124,
        "originalKey": "7222e519-c696-48ea-b792-09efe157272b",
        "requestMsgId": "07351358-a0ea-4dbb-b2c6-45b2fe0463ef",
        "showInput": true
      },
      "outputs": [],
      "source": [
        "# build training loop that for separate model\n",
        "def one_round_split_train(server_model, client_model, server_opt, client_opt, batch , loss_fn):\n",
        "    # zero all optimizers\n",
        "    server_opt.zero_grad()\n",
        "    client_opt.zero_grad()\n",
        "\n",
        "    server_output = server_model(batch['server_categorical'],batch['server_continuous'])\n",
        "    client_output = client_model(server_output,batch['client'])\n",
        "\n",
        "    label = batch['label'].unsqueeze(1).to(torch.float32)\n",
        "\n",
        "    loss = loss_fn(client_output, label)\n",
        "\n",
        "    # backward\n",
        "    dw, dx = client_model.backward(server_output, client_output, label,loss_fn, update_model_grad=True)\n",
        "\n",
        "    server_output.backward(dx)\n",
        "    server_opt.step()\n",
        "    client_opt.step()\n",
        "    return loss, client_output     "
      ]
    },
    {
      "cell_type": "code",
      "execution_count": 10,
      "metadata": {
        "collapsed": false,
        "customInput": null,
        "executionStartTime": 1677231421392,
        "executionStopTime": 1677231421470,
        "originalKey": "09302d67-184d-4877-bff8-ecce9c7031fa",
        "requestMsgId": "54ceb079-5d9e-485e-afc6-c6e20f7e3d95",
        "showInput": true
      },
      "outputs": [],
      "source": [
        "def fit(server_model, client_model, trainloader, testloader, epochs, lr= 1, momentum=0):\n",
        "    loss_fn = nn.BCELoss()\n",
        "    server_opt = torch.optim.SGD(server_model.parameters(),lr=lr, momentum = momentum)\n",
        "    client_opt = torch.optim.SGD(client_model.parameters(),lr=lr, momentum = momentum)\n",
        "\n",
        "    batch_idx = 0\n",
        "    total_loss = 0\n",
        "    total = 0\n",
        "    print('starting fiting')\n",
        "    for e in range(0,epochs):\n",
        "        print('epoch', e)\n",
        "        for batch in trainloader:\n",
        "            #batch_idx += 1\n",
        "            #print(batch_idx)\n",
        "            for key, value in batch.items():\n",
        "                batch[key] = batch[key].to(device)\n",
        "\n",
        "            loss, output = one_round_split_train(server_model, client_model, server_opt, client_opt, batch, loss_fn)\n",
        "            total_loss += loss\n",
        "            total += batch['label'].shape[0]\n",
        "\n",
        "            #if batch_idx % 500 == 0:\n",
        "        val_loss, val_acc = validate_split(server_model, client_model, loss_fn, testloader, device)"
      ]
    },
    {
      "cell_type": "markdown",
      "metadata": {
        "customInput": null,
        "originalKey": "5e4b2cbd-b89d-40fe-a46b-dc816ada7aa5",
        "showInput": false
      },
      "source": [
        "## Training"
      ]
    },
    {
      "cell_type": "code",
      "execution_count": 11,
      "metadata": {
        "collapsed": false,
        "customInput": null,
        "executionStartTime": 1677231421824,
        "executionStopTime": 1677231421950,
        "originalKey": "4771baf3-e810-48b7-829a-348b285a1ce6",
        "requestMsgId": "48b8d1d6-6483-4e7b-8dd0-5b6fa3e85abe",
        "showInput": true
      },
      "outputs": [
        {
          "name": "stdout",
          "output_type": "stream",
          "text": [
            "50000\n",
            "10000\n"
          ]
        }
      ],
      "source": [
        "#creating train and valid datasets\n",
        "client_cols = ['cms_group_id','age_level','pvalue_level','shopping_level','occupation']\n",
        "embedding_cols = ['adgroup_id','cate_id','customer','brand','cms_segid'] # cms_segid is from user_related, should we change it???\n",
        "continuous = ['price']\n",
        "trainset = Dataset_split(tb_train, embedding_cols, continuous, client_cols)\n",
        "testset = Dataset_split(tb_test, embedding_cols, continuous, client_cols)\n",
        "print(len(trainset))\n",
        "print(len(testset))"
      ]
    },
    {
      "cell_type": "code",
      "execution_count": 12,
      "metadata": {
        "collapsed": false,
        "customInput": null,
        "executionStartTime": 1677231422392,
        "executionStopTime": 1677232174550,
        "originalKey": "f84f7455-8239-42ca-aac7-484e72a293cc",
        "requestMsgId": "699f9429-004c-4585-8d41-d20075ddaf6e",
        "showInput": true
      },
      "outputs": [
        {
          "name": "stdout",
          "output_type": "stream",
          "text": [
            "starting fiting\n",
            "epoch 0\n",
            "test loss 0.691 and accuracy 0.528\n",
            "AUC= 0.604424928058476\n",
            "confusion matrix= [[4831  221]\n",
            " [4495  453]]\n",
            "epoch 1\n",
            "test loss 0.696 and accuracy 0.583\n",
            "AUC= 0.6194241099276111\n",
            "confusion matrix= [[4228  824]\n",
            " [3346 1602]]\n",
            "epoch 2\n",
            "test loss 0.695 and accuracy 0.602\n",
            "AUC= 0.6169324951632099\n",
            "confusion matrix= [[3771 1281]\n",
            " [2703 2245]]\n",
            "epoch 3\n",
            "test loss 0.693 and accuracy 0.598\n",
            "AUC= 0.6146272446519586\n",
            "confusion matrix= [[3719 1333]\n",
            " [2686 2262]]\n",
            "epoch 4\n",
            "test loss 0.692 and accuracy 0.581\n",
            "AUC= 0.6089247766718265\n",
            "confusion matrix= [[3785 1267]\n",
            " [2920 2028]]\n",
            "epoch 5\n",
            "test loss 0.692 and accuracy 0.564\n",
            "AUC= 0.600910191597241\n",
            "confusion matrix= [[3939 1113]\n",
            " [3245 1703]]\n",
            "epoch 6\n",
            "test loss 0.690 and accuracy 0.602\n",
            "AUC= 0.6174211709214208\n",
            "confusion matrix= [[3809 1243]\n",
            " [2740 2208]]\n",
            "epoch 7\n",
            "test loss 0.689 and accuracy 0.595\n",
            "AUC= 0.6145910805295248\n",
            "confusion matrix= [[3877 1175]\n",
            " [2876 2072]]\n",
            "epoch 8\n",
            "test loss 0.688 and accuracy 0.583\n",
            "AUC= 0.6171147082681414\n",
            "confusion matrix= [[3925 1127]\n",
            " [3039 1909]]\n",
            "epoch 9\n",
            "test loss 0.688 and accuracy 0.592\n",
            "AUC= 0.6148264657585418\n",
            "confusion matrix= [[3785 1267]\n",
            " [2812 2136]]\n"
          ]
        }
      ],
      "source": [
        "batch_size = 1024\n",
        "train_dataloader = DataLoader(trainset, batch_size=batch_size,shuffle=True)\n",
        "test_dataloader = DataLoader(testset, batch_size=batch_size,shuffle=True)\n",
        "\n",
        "# fitting\n",
        "epochs = 10\n",
        "lr = 0.05\n",
        "momentum = 0.0\n",
        "device = 'cpu'\n",
        "embedded_cols = {'adgroup_id':846811,\n",
        "            'cate_id': 12960,\n",
        "            'customer': 255875,\n",
        "            'brand': 461497,\n",
        "            'cms_segid': 96}\n",
        "embedding_sizes = [(846811+1, 50), (12960+1,50), (255875+1,50),(461497+1,50),(96+1,50)]\n",
        "client_cols = ['cms_group_id','age_level','pvalue_level','shopping_level','occupation']\n",
        "server_continous = ['price']\n",
        "server_model = server_arch(embedding_sizes, 1).to(device)\n",
        "client_model = client_arch(64, len(client_cols)).to(device)\n",
        "\n",
        "fit(server_model, client_model,train_dataloader, test_dataloader, epochs, lr, momentum)"
      ]
    },
    {
      "cell_type": "markdown",
      "metadata": {
        "customInput": null,
        "originalKey": "ea915e44-c869-4bea-bb5d-231a3769117f",
        "showInput": false
      },
      "source": [
        "## Attack"
      ]
    },
    {
      "cell_type": "code",
      "execution_count": 21,
      "metadata": {
        "collapsed": false,
        "customInput": null,
        "executionStartTime": 1677232174834,
        "executionStopTime": 1677232174911,
        "originalKey": "a1881412-4607-4b4e-8848-12126559c184",
        "requestMsgId": "fb94fc42-cb35-483e-8db3-694a6e5677ed",
        "showInput": true
      },
      "outputs": [],
      "source": [
        "class Reconstruct_taobao:\n",
        "    def __init__(self, server_model, client_model):\n",
        "        self.server_model = server_model\n",
        "        self.client_model = client_model\n",
        "\n",
        "    def reconstruct(\n",
        "        self,\n",
        "        cluster_combination_list,\n",
        "        server_output,\n",
        "        label,\n",
        "        dx_original,\n",
        "        cate_original,\n",
        "        offsite_feature_shape=5,\n",
        "    ):\n",
        "        self.client_model.eval()\n",
        "        #cluster_combination_list = self.get_cluster_combination(cluster_centers)\n",
        "        dx_diff_list = []\n",
        "\n",
        "        for cate_try in cluster_combination_list:\n",
        "            # forward pass the client side model\n",
        "            # use the other data, but the reconstructed cluster center to be offsite feature to see if dx match.\n",
        "            cate_try = torch.tensor(cate_try).type(torch.float32)\n",
        "            cate_try = cate_try.unsqueeze(0)\n",
        "            \n",
        "            client_output_recon = client_model(server_output,cate_try)\n",
        "\n",
        "            # backward pass the client side model\n",
        "            # get the gradient and compare with dx and store\n",
        "            \n",
        "            _, dx_recon = client_model.backward(\n",
        "                            server_output, \n",
        "                            client_output_recon, \n",
        "                            label,\n",
        "                            loss_fn,\n",
        "                            update_model_grad=False)\n",
        "\n",
        "            dx_recon = dx_recon[0]\n",
        "            # calculate the distance between dx and dx_original\n",
        "            # to get the smallest distance as the reconstructed center\n",
        "            dx_diff = self.get_dist_between_dx(dx_recon, dx_original)\n",
        "            dx_diff_list.append(dx_diff.clone().detach())\n",
        "\n",
        "        # output the lowest distance cluster center\n",
        "        minpos = dx_diff_list.index(min(dx_diff_list))\n",
        "        reconstruct_output = cluster_combination_list[minpos]\n",
        "\n",
        "        # check for accuracy\n",
        "        # assert center_original in cluster_combination_list\n",
        "        cate_original = cate_original[0].int()\n",
        "\n",
        "        reconstruct_output = torch.tensor(reconstruct_output)\n",
        "\n",
        "        # get the acc for each features\n",
        "        acc = [int(i == j) for i, j in zip(reconstruct_output, cate_original)]\n",
        "        \n",
        "        return acc\n",
        "\n",
        "    def get_dist_between_dx(self, dx_recon, dx_original):\n",
        "        pdist = torch.nn.PairwiseDistance(p=2)\n",
        "        pdistloss = torch.mean(pdist(dx_recon, dx_original))\n",
        "        return pdistloss"
      ]
    },
    {
      "cell_type": "code",
      "execution_count": 22,
      "metadata": {
        "collapsed": false,
        "customInput": null,
        "executionStartTime": 1677232175192,
        "executionStopTime": 1677232175196,
        "originalKey": "1fbe39a7-046c-4642-8a8b-d1461ee9c4ba",
        "requestMsgId": "2e3ef2ea-0b66-4d5b-a6da-4013c9a3ae03",
        "showInput": true
      },
      "outputs": [],
      "source": [
        "# start doing the attack\n",
        "# testloader too to have batch 1\n",
        "def attack_cluster(testloader, cluster_combination_list, server_model, client_model, loss_fn, num_features=5):\n",
        "    stats_output= {}\n",
        "    acc_total = [0 for i in range(num_features)]\n",
        "    num_samples = 0\n",
        "    # initiaze the reconstruct machine\n",
        "    recon_machine = Reconstruct_taobao(\n",
        "        server_model = server_model,\n",
        "        client_model = client_model\n",
        "    )\n",
        "\n",
        "    server_model.eval()\n",
        "    client_model.eval()\n",
        "\n",
        "    for batch_idx, batch in enumerate(testloader):\n",
        "        num_samples += 1\n",
        "\n",
        "        cate_original = batch['client']\n",
        "        \n",
        "        #print('cate original', cate_original.size())\n",
        "        label = batch['label'].unsqueeze(1).to(torch.float32)\n",
        "\n",
        "        server_output_original = server_model(batch['server_categorical'],batch['server_continuous'])\n",
        "        client_output_original = client_model(server_output_original,batch['client'])\n",
        "\n",
        "        _, dx_original = client_model.backward(\n",
        "                server_output_original, \n",
        "                client_output_original, \n",
        "                label,\n",
        "                loss_fn, \n",
        "                update_model_grad=False)\n",
        "        dx_original = dx_original[0]\n",
        "\n",
        "        # doing the attack\n",
        "        acc = recon_machine.reconstruct(\n",
        "                    cluster_combination_list,\n",
        "                    server_output_original,\n",
        "                    label,\n",
        "                    dx_original,\n",
        "                    cate_original,\n",
        "        )\n",
        "        \n",
        "        acc_total = [sum(i) for i in zip(acc_total, acc)]  # without proba, cannot calculate the AUC # average precision recall, do we need proba?. otherwise can only look at confusion matrics\n",
        "\n",
        "        if batch_idx % 500 == 0:\n",
        "            print('batch idx', batch_idx)\n",
        "            print('acc_total', acc_total)\n",
        "            print('acc per features', [x / num_samples for x in acc_total])\n",
        "            print('acc average over features', sum(acc_total)/(num_samples*num_features))\n",
        "        \n",
        "    stats_output['acc_per_features'] = [x / num_samples for x in acc_total]\n",
        "    stats_output['acc_avg'] = sum(acc_total)/(num_samples*num_features)\n",
        "    print(stats_output['acc_avg'])\n",
        "    return stats_output\n"
      ]
    },
    {
      "cell_type": "code",
      "execution_count": 23,
      "metadata": {
        "collapsed": false,
        "customInput": null,
        "executionStartTime": 1677232175617,
        "executionStopTime": 1677232175699,
        "originalKey": "af552530-6b63-491b-af65-14803771e985",
        "requestMsgId": "41727d4d-a33e-4907-8fe9-4c2272b298a4",
        "showInput": true
      },
      "outputs": [
        {
          "name": "stdout",
          "output_type": "stream",
          "text": [
            "total number of diffierent combination of category: 1638\n"
          ]
        }
      ],
      "source": [
        "test_dataloader_attack = DataLoader(testset, batch_size=1,shuffle=False)\n",
        "loss_fn = nn.BCELoss()\n",
        "# features can be attacked\n",
        "feature_offsite = ['cms_group_id','age_level','pvalue_level','shopping_level','occupation']\n",
        "offsite_category = [13, 7, 3, 3, 2] \n",
        "cluster = []\n",
        "\n",
        "# create a combination\n",
        "for i in range(len(offsite_category)):\n",
        "    temp = [j for j in range(offsite_category[i])]\n",
        "    cluster.append(temp)\n",
        "\n",
        "cluster_combination_list = list(itertools.product(*cluster))\n",
        "print('total number of diffierent combination of category:', len(cluster_combination_list))"
      ]
    },
    {
      "cell_type": "code",
      "execution_count": 24,
      "metadata": {
        "collapsed": false,
        "customInput": null,
        "executionStartTime": 1677232176035,
        "executionStopTime": 1677232176037,
        "originalKey": "6ec6e494-24a5-4be5-9c3a-a954524b9896",
        "requestMsgId": "0e26f34e-5d79-4989-93b4-2678b3deb993",
        "showInput": true
      },
      "outputs": [
        {
          "name": "stdout",
          "output_type": "stream",
          "text": [
            "batch idx 0\n",
            "acc_total [1, 1, 1, 1, 1]\n",
            "acc per features [1.0, 1.0, 1.0, 1.0, 1.0]\n",
            "acc average over features 1.0\n"
          ]
        },
        {
          "ename": "KeyboardInterrupt",
          "evalue": "",
          "output_type": "error",
          "traceback": [
            "\u001b[0;31m---------------------------------------------------------------------------\u001b[0m",
            "\u001b[0;31mKeyboardInterrupt\u001b[0m                         Traceback (most recent call last)",
            "Cell \u001b[0;32mIn [24], line 2\u001b[0m\n\u001b[1;32m      1\u001b[0m \u001b[39m# run the attack\u001b[39;00m\n\u001b[0;32m----> 2\u001b[0m output \u001b[39m=\u001b[39m attack_cluster(test_dataloader_attack, cluster_combination_list, server_model, client_model, loss_fn)\n",
            "Cell \u001b[0;32mIn [22], line 36\u001b[0m, in \u001b[0;36mattack_cluster\u001b[0;34m(testloader, cluster_combination_list, server_model, client_model, loss_fn, num_features)\u001b[0m\n\u001b[1;32m     33\u001b[0m dx_original \u001b[39m=\u001b[39m dx_original[\u001b[39m0\u001b[39m]\n\u001b[1;32m     35\u001b[0m \u001b[39m# doing the attack\u001b[39;00m\n\u001b[0;32m---> 36\u001b[0m acc \u001b[39m=\u001b[39m recon_machine\u001b[39m.\u001b[39;49mreconstruct(\n\u001b[1;32m     37\u001b[0m             cluster_combination_list,\n\u001b[1;32m     38\u001b[0m             server_output_original,\n\u001b[1;32m     39\u001b[0m             label,\n\u001b[1;32m     40\u001b[0m             dx_original,\n\u001b[1;32m     41\u001b[0m             cate_original,\n\u001b[1;32m     42\u001b[0m )\n\u001b[1;32m     44\u001b[0m acc_total \u001b[39m=\u001b[39m [\u001b[39msum\u001b[39m(i) \u001b[39mfor\u001b[39;00m i \u001b[39min\u001b[39;00m \u001b[39mzip\u001b[39m(acc_total, acc)]  \n\u001b[1;32m     46\u001b[0m \u001b[39mif\u001b[39;00m batch_idx \u001b[39m%\u001b[39m \u001b[39m500\u001b[39m \u001b[39m==\u001b[39m \u001b[39m0\u001b[39m:\n",
            "Cell \u001b[0;32mIn [21], line 30\u001b[0m, in \u001b[0;36mReconstruct_taobao.reconstruct\u001b[0;34m(self, cluster_combination_list, server_output, label, dx_original, cate_original, offsite_feature_shape)\u001b[0m\n\u001b[1;32m     25\u001b[0m client_output_recon \u001b[39m=\u001b[39m client_model(server_output,cate_try)\n\u001b[1;32m     27\u001b[0m \u001b[39m# backward pass the client side model\u001b[39;00m\n\u001b[1;32m     28\u001b[0m \u001b[39m# get the gradient and compare with dx and store\u001b[39;00m\n\u001b[0;32m---> 30\u001b[0m _, dx_recon \u001b[39m=\u001b[39m client_model\u001b[39m.\u001b[39;49mbackward(\n\u001b[1;32m     31\u001b[0m                 server_output, \n\u001b[1;32m     32\u001b[0m                 client_output_recon, \n\u001b[1;32m     33\u001b[0m                 label,\n\u001b[1;32m     34\u001b[0m                 loss_fn,\n\u001b[1;32m     35\u001b[0m                 update_model_grad\u001b[39m=\u001b[39;49m\u001b[39mFalse\u001b[39;49;00m)\n\u001b[1;32m     37\u001b[0m dx_recon \u001b[39m=\u001b[39m dx_recon[\u001b[39m0\u001b[39m]\n\u001b[1;32m     38\u001b[0m \u001b[39m# calculate the distance between dx and dx_original\u001b[39;00m\n\u001b[1;32m     39\u001b[0m \u001b[39m# to get the smallest distance as the reconstructed center\u001b[39;00m\n",
            "Cell \u001b[0;32mIn [15], line 56\u001b[0m, in \u001b[0;36mclient_arch.backward\u001b[0;34m(self, cut_node, output, target, loss_fn, update_model_grad)\u001b[0m\n\u001b[1;32m     53\u001b[0m params \u001b[39m=\u001b[39m \u001b[39mlist\u001b[39m(\u001b[39mself\u001b[39m\u001b[39m.\u001b[39mparameters())\n\u001b[1;32m     55\u001b[0m \u001b[39m# gradients dE/dw_n\u001b[39;00m\n\u001b[0;32m---> 56\u001b[0m de_dw \u001b[39m=\u001b[39m torch\u001b[39m.\u001b[39;49mautograd\u001b[39m.\u001b[39;49mgrad(\n\u001b[1;32m     57\u001b[0m     [loss],\n\u001b[1;32m     58\u001b[0m     params,\n\u001b[1;32m     59\u001b[0m     retain_graph \u001b[39m=\u001b[39;49m \u001b[39mTrue\u001b[39;49;00m,\n\u001b[1;32m     60\u001b[0m )\n\u001b[1;32m     62\u001b[0m \u001b[39mif\u001b[39;00m update_model_grad:\n\u001b[1;32m     63\u001b[0m     \u001b[39mself\u001b[39m\u001b[39m.\u001b[39mset_model_gradients(de_dw)\n",
            "File \u001b[0;32m~/.local/lib/python3.8/site-packages/torch/autograd/__init__.py:300\u001b[0m, in \u001b[0;36mgrad\u001b[0;34m(outputs, inputs, grad_outputs, retain_graph, create_graph, only_inputs, allow_unused, is_grads_batched)\u001b[0m\n\u001b[1;32m    298\u001b[0m     \u001b[39mreturn\u001b[39;00m _vmap_internals\u001b[39m.\u001b[39m_vmap(vjp, \u001b[39m0\u001b[39m, \u001b[39m0\u001b[39m, allow_none_pass_through\u001b[39m=\u001b[39m\u001b[39mTrue\u001b[39;00m)(grad_outputs_)\n\u001b[1;32m    299\u001b[0m \u001b[39melse\u001b[39;00m:\n\u001b[0;32m--> 300\u001b[0m     \u001b[39mreturn\u001b[39;00m Variable\u001b[39m.\u001b[39;49m_execution_engine\u001b[39m.\u001b[39;49mrun_backward(  \u001b[39m# Calls into the C++ engine to run the backward pass\u001b[39;49;00m\n\u001b[1;32m    301\u001b[0m         t_outputs, grad_outputs_, retain_graph, create_graph, t_inputs,\n\u001b[1;32m    302\u001b[0m         allow_unused, accumulate_grad\u001b[39m=\u001b[39;49m\u001b[39mFalse\u001b[39;49;00m)\n",
            "\u001b[0;31mKeyboardInterrupt\u001b[0m: "
          ]
        }
      ],
      "source": [
        "# run the attack\n",
        "output = attack_cluster(test_dataloader_attack, cluster_combination_list, server_model, client_model, loss_fn)"
      ]
    },
    {
      "attachments": {},
      "cell_type": "markdown",
      "metadata": {},
      "source": [
        "## Baselines\n",
        "Using server's features to do the attack, rather than the gradient (dx). \n",
        "Do the kmeans(server_features), because it has a lot of categoris. Then use these kmeans to predict the on-device user_related features.\n",
        "\n",
        "use the KNN method to predict the offsite features."
      ]
    },
    {
      "cell_type": "code",
      "execution_count": 9,
      "metadata": {},
      "outputs": [],
      "source": [
        "def knn_original(tb_train, tb_test, server_cols, offsite_cols, n_neighbors):\n",
        "    # doing the knn prediction to recon the offsite features\n",
        "    # using the original server_features\n",
        "\n",
        "    X_train = tb_train.loc[:,server_cols].copy().values.astype(np.int64) \n",
        "    y_train = tb_train.loc[:,offsite_cols].copy().values.astype(np.int64)\n",
        "    X_test = tb_test.loc[:,server_cols].copy().values.astype(np.int64) \n",
        "    y_test = tb_test.loc[:,offsite_cols].copy().values.astype(np.int64)\n",
        "    #X_train, X_test, y_train, y_test = train_test_split(server_data, offsite_data, test_size=0.2)\n",
        "\n",
        "    for i in range(len(offsite_cols)):\n",
        "        train_y = y_train[:,i]\n",
        "        test_y = y_test[:,i]\n",
        "        knn =  KNeighborsClassifier(n_neighbors=n_neighbors)\n",
        "        knn.fit(X_train,train_y)\n",
        "        y_pred = knn.predict(X_test)\n",
        "        accuracy = metrics.accuracy_score(test_y, y_pred)\n",
        "        print( offsite_cols[i])\n",
        "        print('acc=', accuracy)\n",
        "        if offsite_cols[i] == 'occupation':\n",
        "            auc = metrics.average_precision_score(test_y, knn.predict_proba(X_test)[:, 1])\n",
        "            f1_socre = metrics.f1_score(test_y, knn.predict(X_test))\n",
        "        else:\n",
        "            auc = metrics.roc_auc_score(test_y, knn.predict_proba(X_test), multi_class='ovr')\n",
        "            f1_socre = metrics.f1_score(test_y, knn.predict(X_test), average='macro')\n",
        "        print('auc=',auc)\n",
        "        print('f1_score=',f1_socre)\n"
      ]
    },
    {
      "cell_type": "code",
      "execution_count": 10,
      "metadata": {},
      "outputs": [
        {
          "name": "stdout",
          "output_type": "stream",
          "text": [
            "cms_group_id\n",
            "acc= 0.3139\n",
            "auc= 0.6170887071736147\n",
            "f1_score= 0.12332117185248576\n",
            "age_level\n",
            "acc= 0.3724\n",
            "auc= 0.6238305035324773\n",
            "f1_score= 0.21481366801847362\n",
            "pvalue_level\n",
            "acc= 0.792\n",
            "auc= 0.6593900040769846\n",
            "f1_score= 0.37042055710833904\n",
            "shopping_level\n",
            "acc= 0.864\n",
            "auc= 0.5981990481007261\n",
            "f1_score= 0.3090128755364807\n",
            "occupation\n",
            "acc= 0.9461\n",
            "auc= 0.20000350099131414\n",
            "f1_score= 0.14308426073131955\n"
          ]
        }
      ],
      "source": [
        "server_cols = ['adgroup_id','cate_id','customer','brand','cms_segid']\n",
        "feature_offsite = ['cms_group_id','age_level','pvalue_level','shopping_level','occupation']\n",
        "knn_original(tb_train = tb_train, tb_test = tb_test, server_cols=server_cols, offsite_cols=feature_offsite, n_neighbors=30)"
      ]
    },
    {
      "cell_type": "code",
      "execution_count": 9,
      "metadata": {},
      "outputs": [],
      "source": [
        "# then kmeans the server features first, then do the knn\n",
        "def knn_kmeans(tb_train, tb_test, server_cols, offsite_cols, n_cluster_kmeans=100, n_neighbors=30):\n",
        "    # doing the kmeans of server features first\n",
        "\n",
        "    X_train = tb_train.loc[:,server_cols].copy().values.astype(np.int64) \n",
        "    y_train = tb_train.loc[:,offsite_cols].copy().values.astype(np.int64)\n",
        "    X_test = tb_test.loc[:,server_cols].copy().values.astype(np.int64) \n",
        "    y_test = tb_test.loc[:,offsite_cols].copy().values.astype(np.int64)\n",
        "    #X_train, X_test, y_train, y_test = train_test_split(server_data, offsite_data, test_size=0.2)\n",
        "    kmeans = KMeans(n_clusters=n_cluster_kmeans) #takes 20min\n",
        "    kmeans.fit(X_train)\n",
        "    x_train_kmeans = kmeans.predict(X_train)\n",
        "    x_test_kmeans = kmeans.predict(X_test)\n",
        "    x_train_center = [kmeans.cluster_centers_[i] for i in x_train_kmeans]\n",
        "    x_test_center = [kmeans.cluster_centers_[i] for i in x_test_kmeans]\n",
        "    print('finish kmeans')\n",
        "\n",
        "    #start knn\n",
        "    for i in range(len(offsite_cols)):\n",
        "        train_y = y_train[:,i]\n",
        "        test_y = y_test[:,i]\n",
        "        knn =  KNeighborsClassifier(n_neighbors=n_neighbors)\n",
        "        knn.fit(x_train_center,train_y)\n",
        "        y_pred = knn.predict(x_test_center)\n",
        "        accuracy = metrics.accuracy_score(test_y, y_pred)\n",
        "        print(offsite_cols[i])\n",
        "        print('acc=', accuracy)\n",
        "        if offsite_cols[i] == 'occupation':\n",
        "            auc = metrics.average_precision_score(test_y, knn.predict_proba(X_test)[:, 1])\n",
        "            f1_socre = metrics.f1_score(test_y, knn.predict(X_test))\n",
        "        else:\n",
        "            auc = metrics.roc_auc_score(test_y, knn.predict_proba(X_test), multi_class='ovr')\n",
        "            f1_socre = metrics.f1_score(test_y, knn.predict(X_test), average='macro')\n",
        "        print('auc=',auc)\n",
        "        print('f1_score=',f1_socre)"
      ]
    },
    {
      "cell_type": "code",
      "execution_count": 11,
      "metadata": {},
      "outputs": [
        {
          "ename": "",
          "evalue": "",
          "output_type": "error",
          "traceback": [
            "\u001b[1;31mCanceled future for execute_request message before replies were done"
          ]
        },
        {
          "ename": "",
          "evalue": "",
          "output_type": "error",
          "traceback": [
            "\u001b[1;31mThe Kernel crashed while executing code in the the current cell or a previous cell. Please review the code in the cell(s) to identify a possible cause of the failure. Click <a href='https://aka.ms/vscodeJupyterKernelCrash'>here</a> for more info. View Jupyter <a href='command:jupyter.viewOutput'>log</a> for further details."
          ]
        }
      ],
      "source": [
        "server_cols = ['adgroup_id','cate_id','customer','brand','cms_segid']\n",
        "feature_offsite = ['cms_group_id','age_level','pvalue_level','shopping_level','occupation']\n",
        "knn_kmeans(tb_train = tb_train, tb_test = tb_test, server_cols=server_cols, offsite_cols=feature_offsite, n_cluster_kmeans=50, n_neighbors=30)"
      ]
    },
    {
      "cell_type": "code",
      "execution_count": 11,
      "metadata": {},
      "outputs": [],
      "source": [
        "def knn_serveroutput(tb_train, tb_test, offsite_cols, server_model, n_neighbors=30):\n",
        "    # doing the kmeans of server output\n",
        "    # get the server output first\n",
        "    embedding_cols = ['adgroup_id','cate_id','customer','brand','cms_segid'] # cms_segid is from user_related, should we change it???\n",
        "    continuous = ['price']\n",
        "    trainset = Dataset_split(tb_train, embedding_cols, continuous, offsite_cols)\n",
        "    testset = Dataset_split(tb_test, embedding_cols, continuous, offsite_cols)\n",
        "    train_dataloader = DataLoader(trainset, batch_size=32,shuffle=False)\n",
        "    test_dataloader = DataLoader(testset, batch_size=32,shuffle=False)\n",
        "    server_model.eval()\n",
        "    server_output_train = None\n",
        "    server_output_test = None\n",
        "    y_train = None\n",
        "    y_test = None\n",
        "\n",
        "    for batch in train_dataloader:\n",
        "        if server_output_train is None:\n",
        "            server_output_train = server_model(batch['server_categorical'],batch['server_continuous']).detach().numpy()\n",
        "            y_train = batch['client'].detach().numpy()\n",
        "        else:\n",
        "            out = server_model(batch['server_categorical'],batch['server_continuous']).detach().numpy()\n",
        "            server_output_train = np.concatenate((server_output_train,out), axis = 0)\n",
        "            y_train = np.concatenate((y_train,batch['client'].detach().numpy() ), axis = 0)\n",
        "\n",
        "    for batch in test_dataloader:\n",
        "        if server_output_test is None:\n",
        "            server_output_test = server_model(batch['server_categorical'],batch['server_continuous']).detach().numpy()\n",
        "            y_test = batch['client'].detach().numpy()\n",
        "        else:\n",
        "            out = server_model(batch['server_categorical'],batch['server_continuous']).detach().numpy()\n",
        "            server_output_test = np.concatenate((server_output_test,out), axis = 0)\n",
        "            y_test = np.concatenate((y_test,batch['client'].detach().numpy() ), axis = 0)\n",
        "\n",
        "    #run knn on server_output \n",
        "    for i in range(len(offsite_cols)):\n",
        "        train_y = y_train[:,i]\n",
        "        test_y = y_test[:,i]\n",
        "        knn =  KNeighborsClassifier(n_neighbors=n_neighbors)\n",
        "        knn.fit(server_output_train,train_y)\n",
        "        y_pred = knn.predict(server_output_test)\n",
        "        accuracy = metrics.accuracy_score(test_y, y_pred)\n",
        "        print(offsite_cols[i])\n",
        "        print('acc=',accuracy)\n",
        "        print(accuracy)\n",
        "        if offsite_cols[i] == 'occupation':\n",
        "            auc = metrics.average_precision_score(test_y, knn.predict_proba(server_output_test)[:, 1])\n",
        "            f1_socre = metrics.f1_score(test_y, knn.predict(server_output_test))\n",
        "        else:\n",
        "            auc = metrics.roc_auc_score(test_y, knn.predict_proba(server_output_test), multi_class='ovr')\n",
        "            f1_socre = metrics.f1_score(test_y, knn.predict(server_output_test), average='macro')\n",
        "        print('auc=',auc)\n",
        "        print('f1_score=',f1_socre)\n",
        "        \n"
      ]
    },
    {
      "cell_type": "code",
      "execution_count": 12,
      "metadata": {},
      "outputs": [
        {
          "ename": "NameError",
          "evalue": "name 'server_arch' is not defined",
          "output_type": "error",
          "traceback": [
            "\u001b[0;31m---------------------------------------------------------------------------\u001b[0m",
            "\u001b[0;31mNameError\u001b[0m                                 Traceback (most recent call last)",
            "Cell \u001b[0;32mIn [12], line 2\u001b[0m\n\u001b[1;32m      1\u001b[0m embedding_sizes \u001b[39m=\u001b[39m [(\u001b[39m846811\u001b[39m\u001b[39m+\u001b[39m\u001b[39m1\u001b[39m, \u001b[39m50\u001b[39m), (\u001b[39m12960\u001b[39m\u001b[39m+\u001b[39m\u001b[39m1\u001b[39m,\u001b[39m50\u001b[39m), (\u001b[39m255875\u001b[39m\u001b[39m+\u001b[39m\u001b[39m1\u001b[39m,\u001b[39m50\u001b[39m),(\u001b[39m461497\u001b[39m\u001b[39m+\u001b[39m\u001b[39m1\u001b[39m,\u001b[39m50\u001b[39m),(\u001b[39m96\u001b[39m\u001b[39m+\u001b[39m\u001b[39m1\u001b[39m,\u001b[39m50\u001b[39m)]\n\u001b[0;32m----> 2\u001b[0m server_model \u001b[39m=\u001b[39m server_arch(embedding_sizes, \u001b[39m1\u001b[39m)\u001b[39m.\u001b[39mto(\u001b[39m'\u001b[39m\u001b[39mcpu\u001b[39m\u001b[39m'\u001b[39m)\n\u001b[1;32m      3\u001b[0m feature_offsite \u001b[39m=\u001b[39m [\u001b[39m'\u001b[39m\u001b[39mcms_group_id\u001b[39m\u001b[39m'\u001b[39m,\u001b[39m'\u001b[39m\u001b[39mage_level\u001b[39m\u001b[39m'\u001b[39m,\u001b[39m'\u001b[39m\u001b[39mpvalue_level\u001b[39m\u001b[39m'\u001b[39m,\u001b[39m'\u001b[39m\u001b[39mshopping_level\u001b[39m\u001b[39m'\u001b[39m,\u001b[39m'\u001b[39m\u001b[39moccupation\u001b[39m\u001b[39m'\u001b[39m]\n\u001b[1;32m      4\u001b[0m knn_serveroutput(tb_train \u001b[39m=\u001b[39m tb_train, tb_test \u001b[39m=\u001b[39m tb_test, offsite_cols \u001b[39m=\u001b[39m feature_offsite, server_model \u001b[39m=\u001b[39m server_model, n_neighbors\u001b[39m=\u001b[39m\u001b[39m30\u001b[39m)\n",
            "\u001b[0;31mNameError\u001b[0m: name 'server_arch' is not defined"
          ]
        }
      ],
      "source": [
        "embedding_sizes = [(846811+1, 50), (12960+1,50), (255875+1,50),(461497+1,50),(96+1,50)]\n",
        "server_model = server_arch(embedding_sizes, 1).to('cpu')\n",
        "feature_offsite = ['cms_group_id','age_level','pvalue_level','shopping_level','occupation']\n",
        "knn_serveroutput(tb_train = tb_train, tb_test = tb_test, offsite_cols = feature_offsite, server_model = server_model, n_neighbors=30)"
      ]
    },
    {
      "attachments": {},
      "cell_type": "markdown",
      "metadata": {},
      "source": [
        "## FSL code"
      ]
    },
    {
      "cell_type": "markdown",
      "metadata": {},
      "source": []
    },
    {
      "cell_type": "code",
      "execution_count": null,
      "metadata": {},
      "outputs": [],
      "source": [
        "class FSL_taobao:\n",
        "    def __init__(self, batch_size, device, lr, momentum):\n",
        "        self.device = device\n",
        "        self.batch_size = batch_size\n",
        "        self.client_model = client_arch(64, len(client_cols)).to(device)\n",
        "        self.server_model = server_arch(embedding_sizes, 1).to(device)\n",
        "        self.loss_fn = nn.BCELoss()\n",
        "        self.opt_server = [torch.optim.SGD(self.server_model.parameters(),lr=lr, momentum = momentum)]\n",
        "        self.opt_client = torch.optim.SGD(self.client_model.parameters(),lr=lr, momentum = momentum)\n",
        "        self.opts = self.opt_server + [self.opt_client]\n",
        "    \n",
        "    \n",
        "    def emulatedFL_clients(self, server_output, batch, emulated_user_samples):\n",
        "        # this emulate a series of FL clients\n",
        "        # (1) it splits the original batch into smaller sub-batches\n",
        "        # (2) it forwards pass these smaller batches intot he client model\n",
        "        # (3) it calculates the return the grad but didnt update the model\n",
        "        # (4) it returns a list one per clients\n",
        "\n",
        "        num_users = len(server_output) // emulated_user_samples\n",
        "\n",
        "        # forward pass for each client\n",
        "        client_output = []\n",
        "        client_dw = []\n",
        "        client_dx = []\n",
        "        num_samples = []\n",
        "\n",
        "        for u in range(num_users):\n",
        "            s = u * emulated_user_samples # start point for user data\n",
        "            e = (u+1) * emulated_user_samples # end point for user data\n",
        "            server_out_to_client = server_output[s:e]\n",
        "            label = batch['label'][s:e].unsqueeze(1).to(torch.float32)\n",
        "            client_input = batch['client'][s:e]\n",
        "            n_s = len(label)\n",
        "            \n",
        "            # for each client, zero the grad\n",
        "            self.opt_client.zero_grad()\n",
        "            out = self.client_model(server_out_to_client,client_input)\n",
        "            dw, dx = self.client_model.backward(server_out_to_client, out, label, self.loss_fn, update_model_grad=True)\n",
        "\n",
        "            client_output.append(out)\n",
        "            client_dw.append(dw)\n",
        "            client_dx.append(dx[0])\n",
        "            num_samples.append(n_s)\n",
        "        return client_output, client_dw, client_dx, num_samples\n",
        "\n",
        "    def one_round_emulatedFL(self, batch, emulated_user_samples = 16):\n",
        "        self.server_model.train()\n",
        "        self.client_model.train()\n",
        "        for o in self.opts:\n",
        "            o.zero_grad()\n",
        "        \n",
        "        server_output = self.server_model(batch['server_categorical'],batch['server_continuous'])\n",
        "        client_output, client_dw, client_dx, num_samples = self.emulatedFL_clients(\n",
        "            server_output, batch, emulated_user_samples=emulated_user_samples\n",
        "        )\n",
        "        \n",
        "        # calculate the average client dw grad\n",
        "        average_dw = [torch.mean(torch.stack(p), dim = 0) for p in zip(*client_dw)]\n",
        "        self.client_model.set_model_gradients(average_dw)\n",
        "\n",
        "        # dont aggregate dx\n",
        "        all_clients_dx = torch.cat(client_dx)\n",
        "        server_output.backward(all_clients_dx)\n",
        "\n",
        "        # step all opt\n",
        "        for o in self.opts:\n",
        "            o.step()\n",
        "        \n",
        "        all_out = torch.cat(client_output)\n",
        "\n",
        "        # return values to print stats\n",
        "        labels = batch['label'].unsqueeze(1).to(torch.float32)\n",
        "        loss = self.loss_fn(all_out, labels)\n",
        "        return loss, all_out\n",
        "\n",
        "    def validate_split(self, test_dataloader):\n",
        "        self.server_model.eval()\n",
        "        self.client_model.eval()\n",
        "        total = 0\n",
        "        sum_loss = 0\n",
        "        correct = 0\n",
        "        y_proba_list = []\n",
        "        y_true_list = []\n",
        "        y_pred_list = []\n",
        "        for batch in test_dataloader:\n",
        "            for key, value in batch.items():\n",
        "                    batch[key] = batch[key].to(self.device)\n",
        "\n",
        "            y = batch['label'].unsqueeze(1).to(torch.float32)\n",
        "\n",
        "            current_batch_size = y.shape[0]\n",
        "\n",
        "            server_output = self.server_model(batch['server_categorical'], batch['server_continuous'])\n",
        "            out = self.client_model(server_output, batch['client'])\n",
        "            \n",
        "            y_proba_list.extend(out.detach().cpu().numpy())\n",
        "            y_true_list.extend(y.detach().cpu().numpy())\n",
        "\n",
        "            loss = self.loss_fn(out, y)\n",
        "            sum_loss += current_batch_size*(loss.item())\n",
        "            total += current_batch_size\n",
        "            pred = torch.round(out).squeeze()\n",
        "\n",
        "            y_pred_list.extend(pred.detach().cpu().numpy())\n",
        "            y = y.squeeze()\n",
        "            correct += (pred == y).sum()\n",
        "\n",
        "            \n",
        "        print(\"test loss %.3f and accuracy %.3f\" % (sum_loss/total, correct/total))\n",
        "        auc = metrics.average_precision_score(y_true_list,y_proba_list)\n",
        "        print(\"AUC= \", auc)\n",
        "        conf_matrix = metrics.confusion_matrix(y_true_list,y_pred_list)\n",
        "        print('confusion matrix=')\n",
        "        print(conf_matrix)\n",
        "        return sum_loss/total, correct/total\n",
        "    \n",
        "    def fit(self,trainset, testset, epochs):\n",
        "        print('fitting FSL')\n",
        "        train_dataloader = DataLoader(trainset, batch_size=self.batch_size,shuffle=True)\n",
        "        test_dataloader = DataLoader(testset, batch_size=self.batch_size,shuffle=False)     \n",
        "\n",
        "        for e in range(epochs):\n",
        "            print('_______epoch:',e)\n",
        "            for batch in train_dataloader:\n",
        "                for key, _ in batch.items():\n",
        "                    batch[key] = batch[key].to(self.device)\n",
        "                \n",
        "                loss, out = self.one_round_emulatedFL(batch)\n",
        "            \n",
        "            loss_val, acc_val = self.validate_split(test_dataloader)\n",
        "        #loss_val, acc_val = self.validate_split(test_dataloader)\n",
        "        return []\n",
        "\n",
        "    def attack_cluster(self, testset, num_features=5):\n",
        "        dataloader = DataLoader(testset, batch_size=1, shuffle=False)\n",
        "\n",
        "        # features can be attacked\n",
        "        feature_offsite = ['cms_group_id','age_level','pvalue_level','shopping_level','occupation']\n",
        "        offsite_category = [13, 7, 3, 3, 2] \n",
        "        cluster = []\n",
        "\n",
        "        # create a combination\n",
        "        for i in range(len(offsite_category)):\n",
        "            temp = [j for j in range(offsite_category[i])]\n",
        "            cluster.append(temp)\n",
        "\n",
        "        cluster_combination_list = list(itertools.product(*cluster))\n",
        "        print('total number of diffierent combination of category:', len(cluster_combination_list))\n",
        "        \n",
        "        stats_output= {}\n",
        "        acc_total = [0 for i in range(num_features)]\n",
        "        num_samples = 0\n",
        "        # initiaze the reconstruct machine\n",
        "        recon_machine = Reconstruct_taobao(\n",
        "            server_model = self.server_model,\n",
        "            client_model = self.client_model\n",
        "        )\n",
        "\n",
        "        self.server_model.eval()\n",
        "        self.client_model.eval()\n",
        "\n",
        "        for batch_idx, batch in enumerate(dataloader):\n",
        "            num_samples += 1\n",
        "            cate_original = batch['client']\n",
        "            \n",
        "            #print('cate original', cate_original.size())\n",
        "            label = batch['label'].unsqueeze(1).to(torch.float32)\n",
        "\n",
        "            server_output_original = self.server_model(batch['server_categorical'],batch['server_continuous'])\n",
        "            client_output_original = self.client_model(server_output_original,batch['client'])\n",
        "\n",
        "            dw_original, dx_original = self.client_model.backward(\n",
        "                    server_output_original, \n",
        "                    client_output_original, \n",
        "                    label,\n",
        "                    self.loss_fn, \n",
        "                    update_model_grad=False)\n",
        "            dx_original = dx_original[0]\n",
        "\n",
        "            # doing the attack\n",
        "            acc = recon_machine.reconstruct(\n",
        "                        cluster_combination_list,\n",
        "                        server_output_original,\n",
        "                        label,\n",
        "                        dx_original,\n",
        "                        cate_original,\n",
        "            )\n",
        "            \n",
        "            acc_total = [sum(i) for i in zip(acc_total, acc)]  \n",
        "\n",
        "            if batch_idx % 500 == 0:\n",
        "                print('batch idx', batch_idx)\n",
        "                print('acc_total', acc_total)\n",
        "                print('acc per features', [x / num_samples for x in acc_total])\n",
        "                print('acc average over features', sum(acc_total)/(num_samples*num_features))\n",
        "            \n",
        "        stats_output['acc_per_features'] = [x / num_samples for x in acc_total]\n",
        "        stats_output['acc_avg'] = sum(acc_total)/(num_samples*num_features)\n",
        "        print(stats_output['acc_avg'])\n",
        "        return stats_output"
      ]
    },
    {
      "cell_type": "code",
      "execution_count": null,
      "metadata": {},
      "outputs": [],
      "source": [
        "def run_fsl(batch_size, device, lr, momentum, epochs, if_attack=True):\n",
        "    #tb_df = load_taobao_df() #should include here, but might be slow\n",
        "    \n",
        "    trainset = Dataset_split(tb_train, embedding_cols, continuous, client_cols)\n",
        "    testset = Dataset_split(tb_test, embedding_cols, continuous, client_cols)\n",
        "    trainer = FSL_taobao(batch_size=batch_size, device=device, lr = lr, momentum= momentum)\n",
        "    \n",
        "    # fit \n",
        "    res = trainer.fit(trainset, testset, epochs = epochs)\n",
        "    \n",
        "    # doing the attack\n",
        "    if if_attack:\n",
        "        print('starting attack')\n",
        "        attack_output = trainer.attack_cluster(testset)"
      ]
    },
    {
      "cell_type": "code",
      "execution_count": null,
      "metadata": {},
      "outputs": [
        {
          "ename": "NameError",
          "evalue": "name 'device' is not defined",
          "output_type": "error",
          "traceback": [
            "\u001b[0;31m---------------------------------------------------------------------------\u001b[0m",
            "\u001b[0;31mNameError\u001b[0m                                 Traceback (most recent call last)",
            "Cell \u001b[0;32mIn [2], line 5\u001b[0m\n\u001b[1;32m      3\u001b[0m momentum \u001b[39m=\u001b[39m \u001b[39m0.0\u001b[39m\n\u001b[1;32m      4\u001b[0m epochs \u001b[39m=\u001b[39m \u001b[39m5\u001b[39m\n\u001b[0;32m----> 5\u001b[0m device \u001b[39m=\u001b[39m device \n\u001b[1;32m      7\u001b[0m run_fsl(batch_size,device, lr, momentum, epochs, if_attack\u001b[39m=\u001b[39m\u001b[39mTrue\u001b[39;00m)\n",
            "\u001b[0;31mNameError\u001b[0m: name 'device' is not defined"
          ]
        }
      ],
      "source": [
        "batch_size = 1024 # should be multiple of 16, since each clients has 16 samples\n",
        "lr = 0.01\n",
        "momentum = 0.0\n",
        "epochs = 5\n",
        "device = device \n",
        "\n",
        "run_fsl(batch_size,device, lr, momentum, epochs, if_attack=True)"
      ]
    },
    {
      "cell_type": "code",
      "execution_count": null,
      "metadata": {},
      "outputs": [],
      "source": []
    }
  ],
  "metadata": {
    "bento_stylesheets": {
      "bento/extensions/flow/main.css": true,
      "bento/extensions/kernel_selector/main.css": true,
      "bento/extensions/kernel_ui/main.css": true,
      "bento/extensions/new_kernel/main.css": true,
      "bento/extensions/system_usage/main.css": true,
      "bento/extensions/theme/main.css": true
    },
    "dataExplorerConfig": {},
    "kernelspec": {
      "display_name": "Python 3",
      "language": "python",
      "name": "python3"
    },
    "language_info": {
      "codemirror_mode": {
        "name": "ipython",
        "version": 3
      },
      "file_extension": ".py",
      "mimetype": "text/x-python",
      "name": "python",
      "nbconvert_exporter": "python",
      "pygments_lexer": "ipython3",
      "version": "3.8.10 (default, Nov 14 2022, 12:59:47) \n[GCC 9.4.0]"
    },
    "last_base_url": "https://bento.edge.x2p.facebook.net/",
    "last_kernel_id": "9be6459a-4d88-4925-a955-5b455bc730ca",
    "last_msg_id": "e38653db-84c4630d4850d071d42c4194_55",
    "last_server_session_id": "d4a930d5-a2e5-466e-9859-be24dc5f8c2b",
    "outputWidgetContext": {},
    "vscode": {
      "interpreter": {
        "hash": "31f2aee4e71d21fbe5cf8b01ff0e069b9275f58929596ceb00d14d90e3e16cd6"
      }
    }
  },
  "nbformat": 4,
  "nbformat_minor": 2
}
